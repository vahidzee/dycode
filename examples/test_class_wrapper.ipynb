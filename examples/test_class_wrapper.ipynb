{
 "cells": [
  {
   "cell_type": "markdown",
   "metadata": {},
   "source": [
    "## Test class wrapper\n",
    "\n",
    "In dycode we are able to define classes that contain objects with different implementations of the same method. This is useful when we want to introduce an experiment class that uses methods to run experiments, but each experiment might have different configurations. The most generic form of creating all these different configurations is to have a certain set of methods that are implemented differently per each of the instances.\n",
    "\n",
    "In this notebook, we will briefly cover this functionality with a dummy example."
   ]
  },
  {
   "cell_type": "markdown",
   "metadata": {},
   "source": [
    "### Use-Case: Generic Simulations\n",
    "\n",
    "Now let's leverage the dynamic wrappers for running a physical simulation. We will show using this dummy example that a simulation can be implemented in the most generic case. For illustration, we will consider the throwing ball problem where we want to throw a ball on with an initial velocity and angle and check the trajectory that the ball takes in space. This can be simply done using the following set of forumalas in the ideal non-friction case:\n",
    "\n",
    "* $x = v_0 \\times t \\sin(\\theta)$\n",
    "* $y = v_0 \\times t \\cos(\\theta) - \\frac{1}{2} g t^2$ where $g$ is the gravitational acceleration.\n",
    "\n",
    "Now lets assume that we have wind blowing from $x = +\\infty$ to $x = -\\infty$ uniformly and horizontally inducing some acceleration on the ball denoted by $a_{wind}(t)$. \n",
    "For simplicity, we will assume that the acceleration induced by the windspeed has the following simple relation where $v_{wind}(t)$ is the wind speed at a given time:\n",
    "$$a_{wind}(t) = \\frac{f_{wind}(t)}{m} = \\frac{(v_{horizontal}(t) + v_{wind}(t)) \\cdot s \\cdot \\mu_{air}}{m}.$$\n",
    "Where $\\mu_{air}$ is a frictional constant of air, $s$ is the object's leading surface, and $v_{horizontal}(t)$ is the speed in the horizontal direction. \n",
    "\n",
    "Now to simulate this in a discrete manner, we keep track of the positions $(x(t), y(t))$, velocities in each direction $(v_{hozidontal}(t), v_{vertical}(t))$ and the accelerations $(a_{horizontal}(t), a_{vertical}(t)) = (a_{wind}(t), g)$. With that in mind, using a small enough time step $\\Delta$ we update the positions according to the velocity and update the velocity according to the acceleration values.\n",
    "\n",
    "The following simulator object summarizes what we just mentioned: \n",
    " \n"
   ]
  },
  {
   "cell_type": "code",
   "execution_count": 2,
   "metadata": {},
   "outputs": [],
   "source": [
    "import numpy as np\n",
    "import typing as th\n",
    "import matplotlib.pyplot as plt\n",
    "from IPython.display import clear_output\n",
    "\n",
    "\n",
    "class BallSimulator:\n",
    "    \"\"\"\n",
    "    A simulator for throwing a ball with mass \"m\" and surface area \"s\" in the air from point (0, 0) \n",
    "    in the x-y plane with a given initial velocity and angle (v0, theta0).\n",
    "    \"\"\"\n",
    "    \n",
    "    def __init__(self, m: float, s: float, v0: float, theta0 : float, \n",
    "                 g : float = 9.81, v_wind: float = 3, friction_constant : float = 1):\n",
    "        self.m = m\n",
    "        self.s = s\n",
    "        self.g = g\n",
    "        self.v0 = v0\n",
    "        self.theta0 = theta0\n",
    "        self.x = 0\n",
    "        self.y = 0\n",
    "        self.t = 0\n",
    "        self.v_wind = v_wind\n",
    "        self.friction_constant = friction_constant\n",
    "    \n",
    "    def get_wind_friction_acceleration(self, v: float) -> float:\n",
    "        return self.friction_constant * v * self.s / self.m\n",
    "\n",
    "    def _real_simulation(self) -> th.List:\n",
    "        simulation = []\n",
    "\n",
    "        gravity_acceleration = self.g\n",
    "        \n",
    "        simulation.append((self.x, self.y))\n",
    "\n",
    "        # get the current speed\n",
    "        current_speed_x = self.v0 * np.cos(self.theta0)\n",
    "        current_speed_y = self.v0 * np.sin(self.theta0)\n",
    "\n",
    "        while True:\n",
    "            delta_t = 0.05\n",
    "\n",
    "            # update the position according to the current speed\n",
    "            self.x += delta_t * current_speed_x\n",
    "            self.y += delta_t * current_speed_y\n",
    "\n",
    "            # update the speed according to the current acceleration\n",
    "            current_speed_x -= self.get_wind_friction_acceleration(current_speed_x + self.v_wind) * delta_t\n",
    "            current_speed_y -= gravity_acceleration * delta_t\n",
    "            \n",
    "            self.t += delta_t\n",
    "            \n",
    "            simulation.append((self.x, max(0, self.y)))\n",
    "        \n",
    "            if self.y < 0:\n",
    "                break\n",
    "            \n",
    "        return simulation\n",
    "        \n",
    "    def simulate(self):\n",
    "        simulation_list = self._real_simulation()\n",
    "        \n",
    "        all_xs = [x for x, y in simulation_list]\n",
    "        all_ys = [y for x, y in simulation_list]\n",
    "        # get the maximum 'x' value in the simulation\n",
    "        max_x = max(all_xs) + 1\n",
    "        min_x = min(all_xs) - 1\n",
    "        # get the maximum 'y' value in the simulation\n",
    "        max_y = max(all_ys) + 1\n",
    "        min_y = min(all_ys) - 0.25\n",
    "        # create a matplotlib figure of size max_x and max_y\n",
    "        for x, y in simulation_list:\n",
    "            plt.plot(all_xs, all_ys, c='orange')\n",
    "            # plot a line from (min_x, 0) to (max_x, 0)\n",
    "            plt.plot([min_x, max_x], [min(all_ys), min(all_ys)], c='black')\n",
    "            plt.scatter(x, y, c='b')\n",
    "            plt.xlim(min_x, max_x)\n",
    "            plt.ylim(min_y, max_y)\n",
    "        \n",
    "            plt.show()\n",
    "            clear_output(wait=True)\n",
    "        # close the figure\n",
    "        plt.close()\n",
    "\n",
    "\n"
   ]
  },
  {
   "cell_type": "code",
   "execution_count": 3,
   "metadata": {},
   "outputs": [
    {
     "data": {
      "image/png": "[encoded data removed]",
      "text/plain": [
       "<Figure size 432x288 with 1 Axes>"
      ]
     },
     "metadata": {
      "needs_background": "light"
     },
     "output_type": "display_data"
    }
   ],
   "source": [
    "# simulation without friction\n",
    "simul = BallSimulator(m=1, s=1, v0=10, theta0=np.pi/4, v_wind=0, friction_constant=0)\n",
    "simul.simulate()"
   ]
  },
  {
   "cell_type": "code",
   "execution_count": 4,
   "metadata": {},
   "outputs": [
    {
     "data": {
      "image/png": "[encoded data removed]",
      "text/plain": [
       "<Figure size 432x288 with 1 Axes>"
      ]
     },
     "metadata": {
      "needs_background": "light"
     },
     "output_type": "display_data"
    }
   ],
   "source": [
    "# simulation with friction\n",
    "simul = BallSimulator(m=1, s=1, v0=10, theta0=np.pi/4, v_wind=1, friction_constant=1)\n",
    "simul.simulate()"
   ]
  },
  {
   "cell_type": "markdown",
   "metadata": {},
   "source": [
    "#### Generic Dynamic Wrappers\n",
    "\n",
    "The problem with the simulator object above is that even though values such as $g$ and $\\mu_{friction}$ are typically constant, we have to handle them in the constructor resulting in a large an unreadable constructor code. In other words, each experiment contains a set of tunable knobs and to make the simulator as generic as possible you may need to add a lot of field attributes resulting in a messy and unreadable constructor.\n",
    "\n",
    "Imagine running multiple experiments on your system only to find out that a very specific set of configurations work. You can either delete the rest of the code for further readability which would result in losing your implementation; or you could leave the code as is which will result in the next person reading the code to glance at a lot of irrelevent code configurations.\n",
    "\n",
    "`DycodeWrappers` are a way to deal with this compromise and provide code that is readable and at the same time generic. To do so, we will first define a wrapper for a set of generic fields and then introduce a wrapper for generic methods."
   ]
  },
  {
   "cell_type": "markdown",
   "metadata": {},
   "source": [
    "#### Field Wrappers\n",
    "\n",
    "Using `dycode.wrappers.dynamize` we can setup a lot of these constant knobs to be dynamic fields which we can leave as is or set them in the constructor. For example, check out the re-written version of the simulation code below:"
   ]
  },
  {
   "cell_type": "code",
   "execution_count": 5,
   "metadata": {},
   "outputs": [],
   "source": [
    "import numpy as np\n",
    "import typing as th\n",
    "import matplotlib.pyplot as plt\n",
    "from IPython.display import clear_output\n",
    "import dycode as dy\n",
    "\n",
    "@dy.dynamize\n",
    "class BallSimulator:\n",
    "    \"\"\"\n",
    "    A simulator for throwing a ball with mass \"m\" and surface area \"s\" in the air from point (0, 0) \n",
    "    in the x-y plane with a given initial velocity and angle (v0, theta0).\n",
    "    \"\"\"\n",
    "    g = dy.field(9.81)\n",
    "    v_wind = dy.field(1)\n",
    "    friction_constant = dy.field(1)\n",
    "    delta_t = dy.field(0.05)\n",
    "    x = dy.field(0)\n",
    "    t = dy.field(0)\n",
    "    y = dy.field(0)\n",
    "\n",
    "    def __init__(self, m: float, s: float, v0: float, theta0 : float):\n",
    "        self.m = m\n",
    "        self.s = s\n",
    "        self.v0 = v0\n",
    "        self.theta0 = theta0\n",
    "    \n",
    "    def get_wind_friction_acceleration(self, v: float) -> float:\n",
    "        return self.friction_constant * v * self.s / self.m\n",
    "\n",
    "    def _real_simulation(self) -> th.List:\n",
    "        simulation = []\n",
    "\n",
    "        gravity_acceleration = self.g\n",
    "        \n",
    "        simulation.append((self.x, self.y))\n",
    "\n",
    "        # get the current speed\n",
    "        current_speed_x = self.v0 * np.cos(self.theta0)\n",
    "        current_speed_y = self.v0 * np.sin(self.theta0)\n",
    "\n",
    "        while True:\n",
    "            # set this to be customizable\n",
    "            delta_t = self.delta_t\n",
    "\n",
    "            # update the position according to the current speed\n",
    "            self.x += delta_t * current_speed_x\n",
    "            self.y += delta_t * current_speed_y\n",
    "\n",
    "            # update the speed according to the current acceleration\n",
    "            current_speed_x -= self.get_wind_friction_acceleration(current_speed_x + self.v_wind) * delta_t\n",
    "            current_speed_y -= gravity_acceleration * delta_t\n",
    "            \n",
    "            self.t += delta_t\n",
    "            \n",
    "            simulation.append((self.x, max(0, self.y)))\n",
    "        \n",
    "            if self.y < 0:\n",
    "                break\n",
    "            \n",
    "        return simulation\n",
    "\n",
    "        \n",
    "    def simulate(self):\n",
    "        simulation_list = self._real_simulation()\n",
    "        \n",
    "        all_xs = [x for x, y in simulation_list]\n",
    "        all_ys = [y for x, y in simulation_list]\n",
    "        # get the maximum 'x' value in the simulation\n",
    "        max_x = max(all_xs) + 1\n",
    "        min_x = min(all_xs) - 1\n",
    "        # get the maximum 'y' value in the simulation\n",
    "        max_y = max(all_ys) + 1\n",
    "        min_y = min(all_ys) - 0.25\n",
    "        # create a matplotlib figure of size max_x and max_y\n",
    "        for x, y in simulation_list:\n",
    "            plt.plot(all_xs, all_ys, c='orange')\n",
    "            # plot a line from (min_x, 0) to (max_x, 0)\n",
    "            plt.plot([min_x, max_x], [min(all_ys), min(all_ys)], c='black')\n",
    "            plt.scatter(x, y, c='b')\n",
    "            plt.xlim(min_x, max_x)\n",
    "            plt.ylim(min_y, max_y)\n",
    "        \n",
    "            plt.show()\n",
    "            clear_output(wait=True)\n",
    "        # close the figure\n",
    "        plt.close()\n",
    "    \n",
    "\n",
    "\n"
   ]
  },
  {
   "cell_type": "code",
   "execution_count": 6,
   "metadata": {},
   "outputs": [
    {
     "data": {
      "image/png": "[encoded data removed]",
      "text/plain": [
       "<Figure size 432x288 with 1 Axes>"
      ]
     },
     "metadata": {
      "needs_background": "light"
     },
     "output_type": "display_data"
    }
   ],
   "source": [
    "# This is a faster simulator with a non-smooth trajectory\n",
    "BallSimulator(1, 1, 10, 0.25 * np.pi, delta_t=dy.field(0.5)).simulate()"
   ]
  },
  {
   "cell_type": "code",
   "execution_count": 7,
   "metadata": {},
   "outputs": [
    {
     "data": {
      "image/png": "[encoded data removed]",
      "text/plain": [
       "<Figure size 432x288 with 1 Axes>"
      ]
     },
     "metadata": {
      "needs_background": "light"
     },
     "output_type": "display_data"
    }
   ],
   "source": [
    "# No friction\n",
    "BallSimulator(1, 1, 10, 0.25 * np.pi, friction_constant=dy.field(0)).simulate()"
   ]
  },
  {
   "cell_type": "code",
   "execution_count": 8,
   "metadata": {},
   "outputs": [
    {
     "data": {
      "image/png": "[encoded data removed]",
      "text/plain": [
       "<Figure size 432x288 with 1 Axes>"
      ]
     },
     "metadata": {
      "needs_background": "light"
     },
     "output_type": "display_data"
    }
   ],
   "source": [
    "# High gravity and less angle\n",
    "\n",
    "BallSimulator(1, 1, 10, 0.1 * np.pi, \n",
    "            friction_constant=dy.field(0), g=dy.field(20), delta_t=dy.field(0.01)).simulate()"
   ]
  },
  {
   "cell_type": "markdown",
   "metadata": {},
   "source": [
    "#### Method Wrappers\n",
    "\n",
    "Now let's say you want to quickly consider the case where the wind speed changes according to time, in that case, you would want to create a method `get_windspeed` that returns the current windspeed. This can act as a scheduler on the windspeed. Conventionally, for any type of scheduler, you should create a separate object and parametrize it and pass the parameters to the constructor of the simulation. However, this introduces the following issues:\n",
    "1. A large constructor that takes in all the parameters of a simulation and reduces readability.\n",
    "2. For any type of simulation with different schedulers you might need to create a separate class that inherits the simulator class.\n",
    "With that in mind, one alternative to the second problem is to write down different scheduler functions in python and pass them as an argument so that a fully generic version of an instance is made. However, using the dynamic class decorator `dycode.wrappers.dynamize_methods` you can make this seamless and circumvent both of the issues mentioned.\n",
    "\n",
    "In particular, we can create a simulator class as below with a tagged method `get_windspeed()`:"
   ]
  },
  {
   "cell_type": "code",
   "execution_count": 9,
   "metadata": {},
   "outputs": [],
   "source": [
    "import numpy as np\n",
    "import typing as th\n",
    "import matplotlib.pyplot as plt\n",
    "from IPython.display import clear_output\n",
    "import dycode as dy\n",
    "\n",
    "@dy.dynamize\n",
    "class BallSimulator:\n",
    "    \"\"\"\n",
    "    A simulator for throwing a ball with mass \"m\" and surface area \"s\" in the air from point (0, 0) \n",
    "    in the x-y plane with a given initial velocity and angle (v0, theta0).\n",
    "    \"\"\"\n",
    "    g = dy.field(9.81)\n",
    "    v_wind = dy.field(1)\n",
    "    friction_constant = dy.field(1)\n",
    "    delta_t = dy.field(0.05)\n",
    "    x = dy.field(0)\n",
    "    t = dy.field(0)\n",
    "    y = dy.field(0)\n",
    "\n",
    "    def __init__(self, m: float, s: float, v0: float, theta0 : float):\n",
    "        self.m = m\n",
    "        self.s = s\n",
    "        self.v0 = v0\n",
    "        self.theta0 = theta0\n",
    "    \n",
    "    def get_wind_friction_acceleration(self, v: float) -> float:\n",
    "        return self.friction_constant * v * self.s / self.m\n",
    "\n",
    "    def _real_simulation(self) -> th.List:\n",
    "        simulation = []\n",
    "\n",
    "        gravity_acceleration = self.g\n",
    "        \n",
    "        simulation.append((self.x, self.y))\n",
    "\n",
    "        # get the current speed\n",
    "        current_speed_x = self.v0 * np.cos(self.theta0)\n",
    "        current_speed_y = self.v0 * np.sin(self.theta0)\n",
    "\n",
    "        while True:\n",
    "            # set this to be customizable\n",
    "            delta_t = self.delta_t\n",
    "\n",
    "            # update the position according to the current speed\n",
    "            self.x += delta_t * current_speed_x\n",
    "            self.y += delta_t * current_speed_y\n",
    "\n",
    "            # update the speed according to the current acceleration\n",
    "            current_speed_x -= self.get_wind_friction_acceleration(current_speed_x + self.get_windspeed()) * delta_t\n",
    "            current_speed_y -= gravity_acceleration * delta_t\n",
    "            \n",
    "            self.t += delta_t\n",
    "            \n",
    "            simulation.append((self.x, max(0, self.y)))\n",
    "        \n",
    "            if self.y < 0:\n",
    "                break\n",
    "            \n",
    "        return simulation\n",
    "\n",
    "        \n",
    "    def simulate(self):\n",
    "        simulation_list = self._real_simulation()\n",
    "        \n",
    "        all_xs = [x for x, y in simulation_list]\n",
    "        all_ys = [y for x, y in simulation_list]\n",
    "        # get the maximum 'x' value in the simulation\n",
    "        max_x = max(all_xs) + 1\n",
    "        min_x = min(all_xs) - 1\n",
    "        # get the maximum 'y' value in the simulation\n",
    "        max_y = max(all_ys) + 1\n",
    "        min_y = min(all_ys) - 0.25\n",
    "        # create a matplotlib figure of size max_x and max_y\n",
    "        for x, y in simulation_list:\n",
    "            plt.plot(all_xs, all_ys, c='orange')\n",
    "            # plot a line from (min_x, 0) to (max_x, 0)\n",
    "            plt.plot([min_x, max_x], [min(all_ys), min(all_ys)], c='black')\n",
    "            plt.scatter(x, y, c='b')\n",
    "            plt.xlim(min_x, max_x)\n",
    "            plt.ylim(min_y, max_y)\n",
    "        \n",
    "            plt.show()\n",
    "            clear_output(wait=True)\n",
    "        # close the figure\n",
    "        plt.close()\n",
    "    \n",
    "    @dy.method\n",
    "    def get_windspeed(self):\n",
    "        # default implementation\n",
    "        return self.v_wind\n",
    "    \n",
    "\n",
    "\n"
   ]
  },
  {
   "cell_type": "code",
   "execution_count": 10,
   "metadata": {},
   "outputs": [],
   "source": [
    "# simulator where the windspeed is constant and equal to 1\n",
    "simul1 = BallSimulator(1, 1, 10, 0.25 * np.pi)\n",
    "# simulator where the windspeed is constant and high (10)\n",
    "simul2 = BallSimulator(1, 1, 10, 0.25 * np.pi, get_windspeed='lambda self: 10')\n",
    "# simulator where the windspeed starts large but linearly decreases\n",
    "simul3 = BallSimulator(1, 1, 10, 0.25 * np.pi, get_windspeed='lambda self: 10 - 5 * self.t')\n",
    "# simulator with a fancy and generic scheduler\n",
    "simul4 = BallSimulator(1, 1, 10, 0.25 * np.pi, get_windspeed='lambda self: 2 - self.t**2 if self.t < 1 else 5 * self.t')"
   ]
  },
  {
   "cell_type": "markdown",
   "metadata": {},
   "source": [
    "Now run all of the simulators."
   ]
  },
  {
   "cell_type": "code",
   "execution_count": 11,
   "metadata": {},
   "outputs": [
    {
     "data": {
      "image/png": "[encoded data removed]",
      "text/plain": [
       "<Figure size 432x288 with 1 Axes>"
      ]
     },
     "metadata": {
      "needs_background": "light"
     },
     "output_type": "display_data"
    }
   ],
   "source": [
    "\n",
    "simul1.simulate()"
   ]
  },
  {
   "cell_type": "code",
   "execution_count": 12,
   "metadata": {},
   "outputs": [
    {
     "data": {
      "image/png": "[encoded data removed]",
      "text/plain": [
       "<Figure size 432x288 with 1 Axes>"
      ]
     },
     "metadata": {
      "needs_background": "light"
     },
     "output_type": "display_data"
    }
   ],
   "source": [
    "simul2.simulate()"
   ]
  },
  {
   "cell_type": "code",
   "execution_count": 13,
   "metadata": {},
   "outputs": [
    {
     "data": {
      "image/png": "[encoded data removed]",
      "text/plain": [
       "<Figure size 432x288 with 1 Axes>"
      ]
     },
     "metadata": {
      "needs_background": "light"
     },
     "output_type": "display_data"
    }
   ],
   "source": [
    "simul3.simulate()"
   ]
  },
  {
   "cell_type": "code",
   "execution_count": 14,
   "metadata": {},
   "outputs": [
    {
     "data": {
      "image/png": "[encoded data removed]",
      "text/plain": [
       "<Figure size 432x288 with 1 Axes>"
      ]
     },
     "metadata": {
      "needs_background": "light"
     },
     "output_type": "display_data"
    }
   ],
   "source": [
    "simul4.simulate()"
   ]
  },
  {
   "cell_type": "markdown",
   "metadata": {},
   "source": [
    "The best part about this form of experiment is that since all the generic implementations can be written in `str` format which can be parsed, then one can create yaml files containing information regarding each and every one of the experiments."
   ]
  }
 ],
 "metadata": {
  "kernelspec": {
   "display_name": "Python 3",
   "language": "python",
   "name": "python3"
  },
  "language_info": {
   "codemirror_mode": {
    "name": "ipython",
    "version": 3
   },
   "file_extension": ".py",
   "mimetype": "text/x-python",
   "name": "python",
   "nbconvert_exporter": "python",
   "pygments_lexer": "ipython3",
   "version": "3.9.16"
  },
  "orig_nbformat": 4,
  "vscode": {
   "interpreter": {
    "hash": "a665b5d41d17b532ea9890333293a1b812fa0b73c9c25c950b3cedf1bebd0438"
   }
  }
 },
 "nbformat": 4,
 "nbformat_minor": 2
}
