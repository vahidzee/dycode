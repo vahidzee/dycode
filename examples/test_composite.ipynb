{
 "cells": [
  {
   "cell_type": "code",
   "execution_count": 17,
   "metadata": {},
   "outputs": [],
   "source": [
    "import sys\n",
    "\n",
    "sys.path.append('..')\n",
    "sys.path.append('../..')"
   ]
  },
  {
   "cell_type": "code",
   "execution_count": 18,
   "metadata": {},
   "outputs": [
    {
     "name": "stdout",
     "output_type": "stream",
     "text": [
      "The autoreload extension is already loaded. To reload it, use:\n",
      "  %reload_ext autoreload\n"
     ]
    }
   ],
   "source": [
    "%load_ext autoreload"
   ]
  },
  {
   "cell_type": "code",
   "execution_count": 19,
   "metadata": {},
   "outputs": [],
   "source": [
    "%autoreload 2\n",
    "\n",
    "import dycode.wrappers as dyw\n",
    "\n",
    "class A:\n",
    "    def __init__(self, a, b):\n",
    "        self.a = a\n",
    "        self.b = b\n",
    "\n",
    "@dyw.dynamize\n",
    "class B_P:\n",
    "    sample_a = dyw.composite('A', a=-1, b=-1)\n",
    "    def __init__(self, xp):\n",
    "        self.xp = xp\n",
    "\n",
    "@dyw.dynamize\n",
    "class B:\n",
    "    sample_bp = dyw.composite('B_P', xp=-1)\n",
    "    def __init__(self, x):\n",
    "        self.x = x\n",
    "\n",
    "@dyw.dynamize\n",
    "class C:\n",
    "    sample_a = dyw.composite('A', a = 2, b = 5)\n",
    "    def __init__(self, a):\n",
    "        self.a = a"
   ]
  },
  {
   "cell_type": "code",
   "execution_count": 24,
   "metadata": {},
   "outputs": [
    {
     "name": "stdout",
     "output_type": "stream",
     "text": [
      "2 = 2\n",
      "--------------------\n",
      "2 = 2\n",
      "101 = 101\n",
      "--------------------\n",
      "20 = 20\n",
      "--------------------\n",
      "11 = 11\n",
      "22 = 22\n",
      "33 = 33\n",
      "--------------------\n"
     ]
    }
   ],
   "source": [
    "# a simple constructor\n",
    "sample1 = C(10)\n",
    "print(sample1.sample_a.a, '= 2')\n",
    "print(\"--------------------\")\n",
    "# A little configuration\n",
    "sample1_5 = C(10, sample_a_args=dict(b=101))\n",
    "print(sample1_5.sample_a.a, '= 2')\n",
    "print(sample1_5.sample_a.b, '= 101')\n",
    "print(\"--------------------\")\n",
    "# changing a deeper field in the constructor\n",
    "sample2 = C(10, sample_a='B', sample_a_args=dict(x=20))\n",
    "print(sample2.sample_a.x, '= 20')\n",
    "print(\"--------------------\")\n",
    "# Changing even deeper field in the constructor\n",
    "sample3 = C(11, \n",
    "    sample_a='B',\n",
    "    sample_a_args=dict(\n",
    "        x=22, \n",
    "        sample_bp='B_P', \n",
    "        sample_bp_args=dict(\n",
    "            xp=33,\n",
    "        )\n",
    "    )\n",
    ")\n",
    "print(sample3.a, '= 11')\n",
    "print(sample3.sample_a.x, '= 22')\n",
    "print(sample3.sample_a.sample_bp.xp, '= 33')\n",
    "print(\"--------------------\")\n"
   ]
  }
 ],
 "metadata": {
  "kernelspec": {
   "display_name": "Python 3.10.9 64-bit",
   "language": "python",
   "name": "python3"
  },
  "language_info": {
   "codemirror_mode": {
    "name": "ipython",
    "version": 3
   },
   "file_extension": ".py",
   "mimetype": "text/x-python",
   "name": "python",
   "nbconvert_exporter": "python",
   "pygments_lexer": "ipython3",
   "version": "3.10.9"
  },
  "orig_nbformat": 4,
  "vscode": {
   "interpreter": {
    "hash": "e7370f93d1d0cde622a1f8e1c04877d8463912d04d973331ad4851f04de6915a"
   }
  }
 },
 "nbformat": 4,
 "nbformat_minor": 2
}
