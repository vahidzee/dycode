{
 "cells": [
  {
   "cell_type": "markdown",
   "metadata": {},
   "source": [
    "# Inheritence\n",
    "\n",
    "In this notebook, we will test some of the inheritence capabilities of the dycode wrappers. "
   ]
  },
  {
   "cell_type": "code",
   "execution_count": 28,
   "metadata": {},
   "outputs": [
    {
     "name": "stdout",
     "output_type": "stream",
     "text": [
      "The autoreload extension is already loaded. To reload it, use:\n",
      "  %reload_ext autoreload\n"
     ]
    }
   ],
   "source": [
    "import sys\n",
    "\n",
    "sys.path.append('..')\n",
    "\n",
    "%load_ext autoreload\n"
   ]
  },
  {
   "cell_type": "markdown",
   "metadata": {},
   "source": [
    "\n",
    "Tired of passing attributes to the parent constructor function? The `dynamize` wrapper has got your back!"
   ]
  },
  {
   "cell_type": "code",
   "execution_count": 32,
   "metadata": {},
   "outputs": [],
   "source": [
    "%autoreload 2\n",
    "import dycode.wrappers as dyw\n",
    "\n",
    "@dyw.dynamize\n",
    "class A:\n",
    "    x = dyw.field(1)\n",
    "    y = dyw.field(2)\n",
    "\n",
    "\n",
    "    def __repr__(self) -> str:\n",
    "        return f\"A({self.x}, {self.y})\"\n",
    "        \n",
    "    @dyw.method\n",
    "    def foo(self):\n",
    "        return 1\n",
    "\n",
    "@dyw.dynamize\n",
    "class B(A):\n",
    "    z = dyw.field(3)\n",
    "\n",
    "\n",
    "    def __repr__(self) -> str:\n",
    "        return f\"B({self.x}, {self.y}, {self.z})\"\n",
    "    \n",
    "    @dyw.method\n",
    "    def bar(self):\n",
    "        return 2"
   ]
  },
  {
   "cell_type": "code",
   "execution_count": 34,
   "metadata": {},
   "outputs": [
    {
     "name": "stdout",
     "output_type": "stream",
     "text": [
      "B(4, 2, 3)\n",
      "1\n",
      "9\n"
     ]
    }
   ],
   "source": [
    "\n",
    "b = B(x=dyw.field(4), bar='lambda self: self.x + self.y + self.z')\n",
    "\n",
    "print(b)\n",
    "print(b.foo())\n",
    "print(b.bar())"
   ]
  }
 ],
 "metadata": {
  "kernelspec": {
   "display_name": "Python 3.10.9 ('venv': venv)",
   "language": "python",
   "name": "python3"
  },
  "language_info": {
   "codemirror_mode": {
    "name": "ipython",
    "version": 3
   },
   "file_extension": ".py",
   "mimetype": "text/x-python",
   "name": "python",
   "nbconvert_exporter": "python",
   "pygments_lexer": "ipython3",
   "version": "3.10.9"
  },
  "orig_nbformat": 4,
  "vscode": {
   "interpreter": {
    "hash": "b8830700a84a06840cdb240f48d81084db07a35c9ef84f1393b6d5d640478af3"
   }
  }
 },
 "nbformat": 4,
 "nbformat_minor": 2
}
